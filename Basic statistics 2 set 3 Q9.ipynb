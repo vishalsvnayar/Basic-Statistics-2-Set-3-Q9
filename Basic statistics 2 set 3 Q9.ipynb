{
 "cells": [
  {
   "cell_type": "markdown",
   "id": "585512c1",
   "metadata": {},
   "source": [
    "**Q9**.Suppose we want the above margin of error to be based on a 98% confidence level. What sample size (minimum) must we now use?\n",
    "\n",
    "A.1000\n",
    "\n",
    "B.757\n",
    "\n",
    "C.`848`\n",
    "\n",
    "D.543\n",
    "\n",
    "We want to construct a 95% confidence interval for with a margin of error equal to 4%.\n",
    "\n",
    "Because there is no estimate of the proportion given, we use for a conservative estimate.\n",
    "\n",
    "where, M is the margin of error\n",
    "\n",
    "p is an estimated value of the proportion\n",
    "\n",
    "For a 98% confidence interval, z=2.33 ,p=0.50\n",
    "\n",
    "n=(2.33/0.04)^2* 0.5*(1-0.5)=848\n",
    "\n",
    "This is the minimum sample size, therefore we should round up to 848 In order to construct a 98% confidence interval with a margin of error of 4%, we should obtain a sample of at least n=848"
   ]
  },
  {
   "cell_type": "code",
   "execution_count": null,
   "id": "d2090d49",
   "metadata": {},
   "outputs": [],
   "source": []
  }
 ],
 "metadata": {
  "kernelspec": {
   "display_name": "Python 3 (ipykernel)",
   "language": "python",
   "name": "python3"
  },
  "language_info": {
   "codemirror_mode": {
    "name": "ipython",
    "version": 3
   },
   "file_extension": ".py",
   "mimetype": "text/x-python",
   "name": "python",
   "nbconvert_exporter": "python",
   "pygments_lexer": "ipython3",
   "version": "3.9.7"
  }
 },
 "nbformat": 4,
 "nbformat_minor": 5
}
